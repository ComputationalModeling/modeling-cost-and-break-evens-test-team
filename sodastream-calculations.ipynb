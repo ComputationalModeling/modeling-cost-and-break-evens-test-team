{
 "cells": [
  {
   "cell_type": "markdown",
   "metadata": {},
   "source": [
    "# How much am I saving (if anything) by using a Sodastream?"
   ]
  },
  {
   "cell_type": "markdown",
   "metadata": {},
   "source": [
    "I think we need to think about the total cost per 12 oz. of soda. And let's use root beer as an example. We'll pit sodastream diet root beer against a can of diet A&W from Meijer."
   ]
  },
  {
   "cell_type": "markdown",
   "metadata": {},
   "source": [
    "## The Cost of Sodastream\n",
    "\n",
    "Let: \n",
    "\n",
    "- $\\hat{Y}$ denote total estimated cost\n",
    "- $x$ be the quantity of sodastream root beer we wish to produce\n",
    "- $a$ and $b$ be coefficients denoting the cost of syrup and $\\mathrm{CO_2}$, respectively\n",
    "\n",
    "$$\\hat{Y}_{sodastream} = x\\left(a_{syrup} + b_{\\mathrm{CO_2}}\\right)$$"
   ]
  },
  {
   "cell_type": "markdown",
   "metadata": {},
   "source": [
    "### The Cost of Syrup\n",
    "\n",
    "$$\n",
    "   a_{syrup} = \n",
    "   \\left(\\textrm{355mL of soda}\\right) \n",
    "   \\times \n",
    "   \\left(\\frac{\\$5.99}{\\textrm{440mL syrup}}\\right)\n",
    "   \\times\n",
    "   \\left( \\frac{\\textrm{15mL syrup}}{\\textrm{240mL soda}} \\right)\n",
    "   $$"
   ]
  },
  {
   "cell_type": "code",
   "execution_count": 1,
   "metadata": {
    "collapsed": false
   },
   "outputs": [
    {
     "data": {
      "text/plain": [
       "0.3020525568181818"
      ]
     },
     "execution_count": 1,
     "metadata": {},
     "output_type": "execute_result"
    }
   ],
   "source": [
    "355 * (5.99 / 440) * (15 / 240)"
   ]
  },
  {
   "cell_type": "markdown",
   "metadata": {},
   "source": [
    "$$\n",
    "a_{syrup} = \\frac{\\$0.3021}{\\mathrm{355mL of soda}}\n",
    "$$"
   ]
  },
  {
   "cell_type": "markdown",
   "metadata": {},
   "source": [
    "### The cost of $\\mathrm{CO_2}$"
   ]
  },
  {
   "cell_type": "markdown",
   "metadata": {},
   "source": [
    "$$\n",
    "b_{CO_2} = \\left( \\textrm{355mL of soda} \\right)\n",
    "           \\left( \n",
    "                \\left( \n",
    "                    \\frac{\\$29.99 - \\left( \\textrm{\\$10 cylinder recycle discount} \\right)}\n",
    "                    {\\mathrm{cylinder}}\n",
    "                \\right) \n",
    "           \\right)\n",
    "    \\times \n",
    "    \\left( \\frac{\\mathrm{cylinder}}{\\textrm{60000mL of soda}} \\right)\n",
    "$$"
   ]
  },
  {
   "cell_type": "code",
   "execution_count": 3,
   "metadata": {
    "collapsed": false
   },
   "outputs": [
    {
     "data": {
      "text/plain": [
       "0.11827416666666667"
      ]
     },
     "execution_count": 3,
     "metadata": {},
     "output_type": "execute_result"
    }
   ],
   "source": [
    "355 * ((29.99 - 10) / 1) * (1 / 60000)"
   ]
  },
  {
   "cell_type": "markdown",
   "metadata": {},
   "source": [
    "$$\n",
    "b_{\\mathrm{CO_2}} = \\frac{\\$0.1183}{\\textrm{355mL of soda}}\n",
    "$$"
   ]
  },
  {
   "cell_type": "markdown",
   "metadata": {},
   "source": [
    "### Total cost of a \"can\" of sodastream\n",
    "\n",
    "$$\n",
    "\\hat{Y}_{sodastream} = \n",
    "    \\textrm{355mL of soda}\n",
    "    \\times\n",
    "    \\left(\n",
    "        \\frac{\\$0.3021 + \\$0.1183}{\\textrm{355mL of soda}}\n",
    "    \\right)\n",
    "$$"
   ]
  },
  {
   "cell_type": "code",
   "execution_count": 4,
   "metadata": {
    "collapsed": false
   },
   "outputs": [
    {
     "data": {
      "text/plain": [
       "0.4204"
      ]
     },
     "execution_count": 4,
     "metadata": {},
     "output_type": "execute_result"
    }
   ],
   "source": [
    "0.3021 + 0.1183"
   ]
  },
  {
   "cell_type": "markdown",
   "metadata": {},
   "source": [
    "$$\\textrm{sodastream price} = \\frac{\\$0.420}{\\mathrm{can}}$$"
   ]
  },
  {
   "cell_type": "markdown",
   "metadata": {},
   "source": [
    "### References\n",
    "\n",
    "![sodastream exchange cylinder price, accessed 2015-11-02](sodastream-exchange-cylinder.png)"
   ]
  },
  {
   "cell_type": "markdown",
   "metadata": {},
   "source": [
    "## Total cost of a can of diet A&W root beer"
   ]
  },
  {
   "cell_type": "markdown",
   "metadata": {},
   "source": [
    "$$\n",
    "    \\left( \\frac{\\$11.00}{\\textrm{4 cases}} \\right)\n",
    "    \\times\n",
    "    \\left( \\frac{\\textrm{1 case}}{\\textrm{12 cans}} \\right)\n",
    "$$"
   ]
  },
  {
   "cell_type": "code",
   "execution_count": 5,
   "metadata": {
    "collapsed": false
   },
   "outputs": [
    {
     "data": {
      "text/plain": [
       "0.22916666666666666"
      ]
     },
     "execution_count": 5,
     "metadata": {},
     "output_type": "execute_result"
    }
   ],
   "source": [
    "(11 / 4) * (1 / 12)"
   ]
  },
  {
   "cell_type": "markdown",
   "metadata": {},
   "source": [
    "$$\n",
    "\\textrm{can price} = \\frac{\\$0.229}{\\textrm{can}}\n",
    "$$"
   ]
  },
  {
   "cell_type": "markdown",
   "metadata": {},
   "source": [
    "### References\n",
    "\n",
    "![Cost of a 12-pack of cans of Diet A&W root beer, accessed 2015-11-02](diet-a-and-w.png)"
   ]
  },
  {
   "cell_type": "markdown",
   "metadata": {},
   "source": [
    "# Conclusion\n",
    "\n",
    "At just 23 cents per can, it seems drastically cheaper to buy A&W diet root beer (whose taste I prefer) to continuing to operate my sodastream (which costs "
   ]
  }
 ],
 "metadata": {
  "kernelspec": {
   "display_name": "Python 3",
   "language": "python",
   "name": "python3"
  },
  "language_info": {
   "codemirror_mode": {
    "name": "ipython",
    "version": 3
   },
   "file_extension": ".py",
   "mimetype": "text/x-python",
   "name": "python",
   "nbconvert_exporter": "python",
   "pygments_lexer": "ipython3",
   "version": "3.4.3"
  }
 },
 "nbformat": 4,
 "nbformat_minor": 0
}
